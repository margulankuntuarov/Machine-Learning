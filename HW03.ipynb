{
 "cells": [
  {
   "cell_type": "code",
   "execution_count": null,
   "metadata": {},
   "outputs": [],
   "source": [
    "import random\n",
    "n = random.randint(1, 100000)\n",
    "a = []\n",
    "b = []\n",
    "for i in range(n):\n",
    "    a.append(random.randint(0,10^9))\n",
    "for i in range(n):\n",
    "    b.append(random.randint(0,1))\n",
    "for i in range(len(a)-1):\n",
    "    if b[i]==1 and b[i+1]==0:\n",
    "        if a[i]>a[i+1]:\n",
    "            a[i+1]=a[i]\n",
    "            a[i] = -1\n",
    "            b[i+1] = 1\n",
    "            b[i]=0\n",
    "        else:\n",
    "            a[i] = -1\n",
    "            b[i] = 0\n",
    "len(a) - a.count(-1)"
   ]
  }
 ],
 "metadata": {
  "kernelspec": {
   "display_name": "Python 3",
   "language": "python",
   "name": "python3"
  },
  "language_info": {
   "codemirror_mode": {
    "name": "ipython",
    "version": 3
   },
   "file_extension": ".py",
   "mimetype": "text/x-python",
   "name": "python",
   "nbconvert_exporter": "python",
   "pygments_lexer": "ipython3",
   "version": "3.8.5"
  }
 },
 "nbformat": 4,
 "nbformat_minor": 4
}
